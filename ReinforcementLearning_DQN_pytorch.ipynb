{
  "nbformat": 4,
  "nbformat_minor": 0,
  "metadata": {
    "colab": {
      "name": "ReinforcementLearning DQN pytorch.ipynb",
      "provenance": [],
      "collapsed_sections": [],
      "include_colab_link": true
    },
    "kernelspec": {
      "name": "python3",
      "display_name": "Python 3"
    },
    "accelerator": "GPU"
  },
  "cells": [
    {
      "cell_type": "markdown",
      "metadata": {
        "id": "view-in-github",
        "colab_type": "text"
      },
      "source": [
        "<a href=\"https://colab.research.google.com/github/fer-haac/examples/blob/master/ReinforcementLearning_DQN_pytorch.ipynb\" target=\"_parent\"><img src=\"https://colab.research.google.com/assets/colab-badge.svg\" alt=\"Open In Colab\"/></a>"
      ]
    },
    {
      "cell_type": "markdown",
      "metadata": {
        "id": "Mh3KayG0qaJw",
        "colab_type": "text"
      },
      "source": [
        "\n",
        "DQN Notebook created by [Víctor Campos](https://imatge.upc.edu/web/people/victor-campos) for UPC ETSETB AAL 2019\n",
        "\n",
        "Updates:\n",
        "\n",
        "[Xavier Giró](https://imatge.upc.edu/web/people/xavier-giro) - UPC ETSETB AAL 2019\n",
        "\n",
        "[Jordi Luque](http://http://www.tid.es/research/researchers/jordi-luque) - Telefónica Research / UPC Computer Science 2020\n"
      ]
    },
    {
      "cell_type": "code",
      "metadata": {
        "id": "V-zkvl8At-6c",
        "colab_type": "code",
        "outputId": "90e0bae6-bce0-4ce5-e0ca-97aedecc54ef",
        "colab": {
          "base_uri": "https://localhost:8080/",
          "height": 84
        }
      },
      "source": [
        "# Lunch this cell code everytime you lost ssh access to the colab server \n",
        "# It usually could happen if you stop a cell in the middle of a execution)\n",
        "\n",
        "# Preparing ssh and user in server\n",
        "# Generate root password\n",
        "import random, string\n",
        "password =\"olakase\" #set password \n",
        "\n",
        "#''.join(random.choice(string.ascii_letters + string.digits) for i in range(20))\n",
        "\n",
        "#Download ngrok\n",
        "! wget -q -c -nc https://bin.equinox.io/c/4VmDzA7iaHb/ngrok-stable-linux-amd64.zip\n",
        "! unzip -qq -n ngrok-stable-linux-amd64.zip\n",
        "#Setup sshd\n",
        "! apt-get install -qq -o=Dpkg::Use-Pty=0 openssh-server pwgen > /dev/null\n",
        "#Set root password\n",
        "! echo root:$password | chpasswd\n",
        "! mkdir -p /var/run/sshd\n",
        "! echo \"PermitRootLogin yes\" >> /etc/ssh/sshd_config\n",
        "! echo \"PasswordAuthentication yes\" >> /etc/ssh/sshd_config\n",
        "! echo \"LD_LIBRARY_PATH=/usr/lib64-nvidia\" >> /root/.bashrc\n",
        "! echo \"export LD_LIBRARY_PATH\" >> /root/.bashrc\n",
        "\n",
        "#Run sshd\n",
        "get_ipython().system_raw('/usr/sbin/sshd -D &')\n",
        "\n",
        "#Ask token\n",
        "print(\"Copy authtoken from https://dashboard.ngrok.com/auth\")\n",
        "import getpass\n",
        "authtoken = getpass.getpass()\n",
        "\n",
        "#Create tunnel\n",
        "get_ipython().system_raw('./ngrok authtoken $authtoken && ./ngrok tcp 22 &')\n",
        "#Print root password\n",
        "print(\"Root password: {}\".format(password))\n",
        "! sleep 2\n",
        "#Get public address\n",
        "! curl -s http://localhost:4040/api/tunnels | python3 -c \\\n",
        "    \"import sys, json; print(json.load(sys.stdin)['tunnels'][0]['public_url'])\""
      ],
      "execution_count": 0,
      "outputs": [
        {
          "output_type": "stream",
          "text": [
            "Copy authtoken from https://dashboard.ngrok.com/auth\n",
            "··········\n",
            "Root password: olakase\n",
            "tcp://0.tcp.ngrok.io:15008\n"
          ],
          "name": "stdout"
        }
      ]
    },
    {
      "cell_type": "code",
      "metadata": {
        "id": "hTLKQMCfwI6y",
        "colab_type": "code",
        "outputId": "2cc01986-b7d6-41ce-a66c-940fc86badb7",
        "colab": {
          "base_uri": "https://localhost:8080/",
          "height": 121
        }
      },
      "source": [
        "# if you wanna mount your own google drive\n",
        "from google.colab import drive\n",
        "drive.mount('/content/drive') \n"
      ],
      "execution_count": 0,
      "outputs": [
        {
          "output_type": "stream",
          "text": [
            "Go to this URL in a browser: https://accounts.google.com/o/oauth2/auth?client_id=947318989803-6bn6qk8qdgf4n4g3pfee6491hc0brc4i.apps.googleusercontent.com&redirect_uri=urn%3aietf%3awg%3aoauth%3a2.0%3aoob&response_type=code&scope=email%20https%3a%2f%2fwww.googleapis.com%2fauth%2fdocs.test%20https%3a%2f%2fwww.googleapis.com%2fauth%2fdrive%20https%3a%2f%2fwww.googleapis.com%2fauth%2fdrive.photos.readonly%20https%3a%2f%2fwww.googleapis.com%2fauth%2fpeopleapi.readonly\n",
            "\n",
            "Enter your authorization code:\n",
            "··········\n",
            "Mounted at /content/drive\n"
          ],
          "name": "stdout"
        }
      ]
    },
    {
      "cell_type": "markdown",
      "metadata": {
        "id": "0spTu6Dawi2S",
        "colab_type": "text"
      },
      "source": [
        "# DQN example in PyTorch\n",
        "\n",
        "This notebook is adapted from the [official DQN tutorial](https://pytorch.org/tutorials/intermediate/reinforcement_q_learning.html). Unlike the tutorial, we will use the standard observation instead of the RGB images."
      ]
    },
    {
      "cell_type": "code",
      "metadata": {
        "id": "Y6HRPJ_4ioex",
        "colab_type": "code",
        "cellView": "form",
        "colab": {}
      },
      "source": [
        "#@title Train/eval selection\n",
        "#@markdown Sometimes the notebook will crash when running an evaluation rollout (with render=True) after training. If this happens, you can skip training and load a pre-trained model with the checkboxes below.\n",
        "\n",
        "train_model = True #@param {type:\"boolean\"}\n",
        "load_model = False #@param {type:\"boolean\"}\n"
      ],
      "execution_count": 0,
      "outputs": []
    },
    {
      "cell_type": "markdown",
      "metadata": {
        "id": "hIYC7IeEwrlt",
        "colab_type": "text"
      },
      "source": [
        "## Installing dependencies\n",
        "\n",
        "We will use OpenAI Gym to simulate the environment, which might not be installed by default. We also need to install some dependencies for visualization purposes (this may take a while)."
      ]
    },
    {
      "cell_type": "code",
      "metadata": {
        "id": "Pm4IZndds2u2",
        "colab_type": "code",
        "colab": {}
      },
      "source": [
        "!pip install gym pyvirtualdisplay > /dev/null 2>&1\n",
        "!apt-get install -y xvfb python-opengl ffmpeg > /dev/null 2>&1"
      ],
      "execution_count": 0,
      "outputs": []
    },
    {
      "cell_type": "markdown",
      "metadata": {
        "id": "RzOcEmlJw6gb",
        "colab_type": "text"
      },
      "source": [
        "## Setting up the environment\n",
        "\n",
        "We will need some tricks to visualize the simulations in the browser, as simply calling env.render() will not work in this notebook ([source](https://colab.research.google.com/drive/1flu31ulJlgiRL1dnN2ir8wGh9p7Zij2t#scrollTo=Jyb2Ujuozfi2&forceEdit=true&offline=true&sandboxMode=true))."
      ]
    },
    {
      "cell_type": "code",
      "metadata": {
        "id": "cElJ0d4PsX5X",
        "colab_type": "code",
        "colab": {}
      },
      "source": [
        "import os\n",
        "import gym\n",
        "import time\n",
        "import random\n",
        "import numpy as np\n",
        "import matplotlib\n",
        "import matplotlib.pyplot as plt\n",
        "%matplotlib inline\n",
        "import math\n",
        "import glob\n",
        "import io\n",
        "import base64\n",
        "from IPython.display import HTML\n",
        "from IPython import display as ipythondisplay\n",
        "from collections import namedtuple"
      ],
      "execution_count": 0,
      "outputs": []
    },
    {
      "cell_type": "code",
      "metadata": {
        "id": "pHiHbaL85e1k",
        "colab_type": "code",
        "colab": {}
      },
      "source": [
        "from gym import logger as gymlogger\n",
        "from gym.wrappers import Monitor\n",
        "gymlogger.set_level(40) #error only\n"
      ],
      "execution_count": 0,
      "outputs": []
    },
    {
      "cell_type": "code",
      "metadata": {
        "id": "7DmTRRyhmgYt",
        "colab_type": "code",
        "colab": {}
      },
      "source": [
        "import tensorflow as tf\n",
        "import torch\n",
        "import torch.nn as nn\n",
        "import torch.nn.functional as F\n",
        "\n",
        "# if gpu is to be used\n",
        "device = torch.device(\"cuda\" if torch.cuda.is_available() else \"cpu\")"
      ],
      "execution_count": 0,
      "outputs": []
    },
    {
      "cell_type": "code",
      "metadata": {
        "id": "Nnf0NPZ_ss8u",
        "colab_type": "code",
        "outputId": "81df1b01-0fe0-4774-9463-2318295cddec",
        "colab": {
          "base_uri": "https://localhost:8080/",
          "height": 50
        }
      },
      "source": [
        "print('PyTorch version: ', torch.__version__)\n",
        "print('Using GPU:', ['no', 'yes'][int(torch.cuda.is_available())])"
      ],
      "execution_count": 0,
      "outputs": [
        {
          "output_type": "stream",
          "text": [
            "PyTorch version:  1.5.0+cu101\n",
            "Using GPU: yes\n"
          ],
          "name": "stdout"
        }
      ]
    },
    {
      "cell_type": "markdown",
      "metadata": {
        "id": "Jb-2Jt7uYQGi",
        "colab_type": "text"
      },
      "source": [
        "# For Monitor stats and video playing\n",
        "\n",
        "Maybe needs to re-execute every time some episode crashes\n"
      ]
    },
    {
      "cell_type": "code",
      "metadata": {
        "id": "BUlPxFV1xtw4",
        "colab_type": "code",
        "outputId": "8c487235-8cce-45fc-c8ba-b7cde57b196d",
        "colab": {
          "base_uri": "https://localhost:8080/",
          "height": 34
        }
      },
      "source": [
        "#!apt-get install x11-utils\n",
        "from pyvirtualdisplay import Display\n",
        "display = Display(visible=0, size=(1400, 900))\n",
        "display.start()"
      ],
      "execution_count": 0,
      "outputs": [
        {
          "output_type": "execute_result",
          "data": {
            "text/plain": [
              "<pyvirtualdisplay.display.Display at 0x7f1a8eeb2a20>"
            ]
          },
          "metadata": {
            "tags": []
          },
          "execution_count": 1
        }
      ]
    },
    {
      "cell_type": "code",
      "metadata": {
        "id": "X_b9tRuVxwP3",
        "colab_type": "code",
        "colab": {}
      },
      "source": [
        "def show_video():\n",
        "  !pwd\n",
        "  mp4list = glob.glob('video/*.mp4')\n",
        "  if len(mp4list) > 0:\n",
        "    mp4 = mp4list[0]\n",
        "    video = io.open(mp4, 'r+b').read()\n",
        "    encoded = base64.b64encode(video)\n",
        "    ipythondisplay.display(HTML(data='''<video alt=\"test\" autoplay \n",
        "                loop controls style=\"height: 400px;\">\n",
        "                <source src=\"data:video/mp4;base64,{0}\" type=\"video/mp4\" />\n",
        "             </video>'''.format(encoded.decode('ascii'))))\n",
        "  else: \n",
        "    print(\"Could not find video\")\n",
        "    \n",
        "def wrap_env(env):\n",
        "  env = Monitor(env, './video', force=True)\n",
        "  return env"
      ],
      "execution_count": 0,
      "outputs": []
    },
    {
      "cell_type": "markdown",
      "metadata": {
        "id": "5B_AyUBCJSwM",
        "colab_type": "text"
      },
      "source": [
        "# Pacman!"
      ]
    },
    {
      "cell_type": "code",
      "metadata": {
        "id": "LBhl1Oq-Jwlb",
        "colab_type": "code",
        "outputId": "14880a7b-b01e-4b5e-f595-805d4387519a",
        "colab": {
          "base_uri": "https://localhost:8080/",
          "height": 254
        }
      },
      "source": [
        "!apt-get update > /dev/null 2>&1\n",
        "!apt-get install cmake > /dev/null 2>&1\n",
        "!pip install --upgrade setuptools 2>&1\n",
        "!pip install ez_setup > /dev/null 2>&1\n",
        "!pip install gym[atari] > /dev/null 2>&1\n"
      ],
      "execution_count": 0,
      "outputs": [
        {
          "output_type": "stream",
          "text": [
            "Collecting setuptools\n",
            "\u001b[?25l  Downloading https://files.pythonhosted.org/packages/95/95/f657b6e17f00c3f35b5f68b10e46c3a43af353d8856bd57bfcfb1dbb3e92/setuptools-47.1.1-py3-none-any.whl (583kB)\n",
            "\r\u001b[K     |▋                               | 10kB 18.1MB/s eta 0:00:01\r\u001b[K     |█▏                              | 20kB 4.3MB/s eta 0:00:01\r\u001b[K     |█▊                              | 30kB 5.5MB/s eta 0:00:01\r\u001b[K     |██▎                             | 40kB 5.7MB/s eta 0:00:01\r\u001b[K     |██▉                             | 51kB 4.8MB/s eta 0:00:01\r\u001b[K     |███▍                            | 61kB 5.3MB/s eta 0:00:01\r\u001b[K     |████                            | 71kB 5.7MB/s eta 0:00:01\r\u001b[K     |████▌                           | 81kB 6.2MB/s eta 0:00:01\r\u001b[K     |█████                           | 92kB 6.3MB/s eta 0:00:01\r\u001b[K     |█████▋                          | 102kB 6.2MB/s eta 0:00:01\r\u001b[K     |██████▏                         | 112kB 6.2MB/s eta 0:00:01\r\u001b[K     |██████▊                         | 122kB 6.2MB/s eta 0:00:01\r\u001b[K     |███████▎                        | 133kB 6.2MB/s eta 0:00:01\r\u001b[K     |███████▉                        | 143kB 6.2MB/s eta 0:00:01\r\u001b[K     |████████▍                       | 153kB 6.2MB/s eta 0:00:01\r\u001b[K     |█████████                       | 163kB 6.2MB/s eta 0:00:01\r\u001b[K     |█████████▌                      | 174kB 6.2MB/s eta 0:00:01\r\u001b[K     |██████████▏                     | 184kB 6.2MB/s eta 0:00:01\r\u001b[K     |██████████▊                     | 194kB 6.2MB/s eta 0:00:01\r\u001b[K     |███████████▎                    | 204kB 6.2MB/s eta 0:00:01\r\u001b[K     |███████████▉                    | 215kB 6.2MB/s eta 0:00:01\r\u001b[K     |████████████▍                   | 225kB 6.2MB/s eta 0:00:01\r\u001b[K     |█████████████                   | 235kB 6.2MB/s eta 0:00:01\r\u001b[K     |█████████████▌                  | 245kB 6.2MB/s eta 0:00:01\r\u001b[K     |██████████████                  | 256kB 6.2MB/s eta 0:00:01\r\u001b[K     |██████████████▋                 | 266kB 6.2MB/s eta 0:00:01\r\u001b[K     |███████████████▏                | 276kB 6.2MB/s eta 0:00:01\r\u001b[K     |███████████████▊                | 286kB 6.2MB/s eta 0:00:01\r\u001b[K     |████████████████▎               | 296kB 6.2MB/s eta 0:00:01\r\u001b[K     |████████████████▉               | 307kB 6.2MB/s eta 0:00:01\r\u001b[K     |█████████████████▍              | 317kB 6.2MB/s eta 0:00:01\r\u001b[K     |██████████████████              | 327kB 6.2MB/s eta 0:00:01\r\u001b[K     |██████████████████▌             | 337kB 6.2MB/s eta 0:00:01\r\u001b[K     |███████████████████             | 348kB 6.2MB/s eta 0:00:01\r\u001b[K     |███████████████████▋            | 358kB 6.2MB/s eta 0:00:01\r\u001b[K     |████████████████████▎           | 368kB 6.2MB/s eta 0:00:01\r\u001b[K     |████████████████████▉           | 378kB 6.2MB/s eta 0:00:01\r\u001b[K     |█████████████████████▍          | 389kB 6.2MB/s eta 0:00:01\r\u001b[K     |██████████████████████          | 399kB 6.2MB/s eta 0:00:01\r\u001b[K     |██████████████████████▌         | 409kB 6.2MB/s eta 0:00:01\r\u001b[K     |███████████████████████         | 419kB 6.2MB/s eta 0:00:01\r\u001b[K     |███████████████████████▋        | 430kB 6.2MB/s eta 0:00:01\r\u001b[K     |████████████████████████▏       | 440kB 6.2MB/s eta 0:00:01\r\u001b[K     |████████████████████████▊       | 450kB 6.2MB/s eta 0:00:01\r\u001b[K     |█████████████████████████▎      | 460kB 6.2MB/s eta 0:00:01\r\u001b[K     |█████████████████████████▉      | 471kB 6.2MB/s eta 0:00:01\r\u001b[K     |██████████████████████████▍     | 481kB 6.2MB/s eta 0:00:01\r\u001b[K     |███████████████████████████     | 491kB 6.2MB/s eta 0:00:01\r\u001b[K     |███████████████████████████▌    | 501kB 6.2MB/s eta 0:00:01\r\u001b[K     |████████████████████████████    | 512kB 6.2MB/s eta 0:00:01\r\u001b[K     |████████████████████████████▋   | 522kB 6.2MB/s eta 0:00:01\r\u001b[K     |█████████████████████████████▏  | 532kB 6.2MB/s eta 0:00:01\r\u001b[K     |█████████████████████████████▊  | 542kB 6.2MB/s eta 0:00:01\r\u001b[K     |██████████████████████████████▍ | 552kB 6.2MB/s eta 0:00:01\r\u001b[K     |███████████████████████████████ | 563kB 6.2MB/s eta 0:00:01\r\u001b[K     |███████████████████████████████▌| 573kB 6.2MB/s eta 0:00:01\r\u001b[K     |████████████████████████████████| 583kB 6.2MB/s \n",
            "\u001b[31mERROR: datascience 0.10.6 has requirement folium==0.2.1, but you'll have folium 0.8.3 which is incompatible.\u001b[0m\n",
            "\u001b[?25hInstalling collected packages: setuptools\n",
            "  Found existing installation: setuptools 46.4.0\n",
            "    Uninstalling setuptools-46.4.0:\n",
            "      Successfully uninstalled setuptools-46.4.0\n",
            "Successfully installed setuptools-47.1.1\n"
          ],
          "name": "stdout"
        },
        {
          "output_type": "display_data",
          "data": {
            "application/vnd.colab-display-data+json": {
              "pip_warning": {
                "packages": [
                  "pkg_resources"
                ]
              }
            }
          },
          "metadata": {
            "tags": []
          }
        }
      ]
    },
    {
      "cell_type": "code",
      "metadata": {
        "id": "gurSNOdcJLf7",
        "colab_type": "code",
        "colab": {}
      },
      "source": [
        "from pyvirtualdisplay import Display\n",
        "display = Display(visible=0, size=(1400, 900))\n",
        "display.start()\n",
        "env = wrap_env(gym.make(\"MsPacman-v0\"))"
      ],
      "execution_count": 0,
      "outputs": []
    },
    {
      "cell_type": "code",
      "metadata": {
        "id": "foLzYTrNJNtd",
        "colab_type": "code",
        "outputId": "74e9ccc5-c299-4a8b-ddbe-9359b93b100b",
        "colab": {
          "base_uri": "https://localhost:8080/",
          "height": 34
        }
      },
      "source": [
        "#check out the pacman action space!\n",
        "print(env.action_space)"
      ],
      "execution_count": 0,
      "outputs": [
        {
          "output_type": "stream",
          "text": [
            "Discrete(9)\n"
          ],
          "name": "stdout"
        }
      ]
    },
    {
      "cell_type": "code",
      "metadata": {
        "id": "9w4DiYK7JP7S",
        "colab_type": "code",
        "outputId": "c4bc6ad9-960a-4fc4-a765-db8bd3a2e74e",
        "colab": {
          "base_uri": "https://localhost:8080/",
          "height": 438
        }
      },
      "source": [
        "\n",
        "observation = env.reset()\n",
        "\n",
        "for i_episode in range(1):\n",
        "    observation = env.reset()\n",
        "    while True:\n",
        "      \n",
        "        env.render()\n",
        "        \n",
        "        #your agent goes here\n",
        "        action = env.action_space.sample() \n",
        "            \n",
        "        observation, reward, done, info = env.step(action) \n",
        "      \n",
        "            \n",
        "        if done: \n",
        "          break;\n",
        "            \n",
        "env.close()\n",
        "show_video()"
      ],
      "execution_count": 0,
      "outputs": [
        {
          "output_type": "stream",
          "text": [
            "/content\n"
          ],
          "name": "stdout"
        },
        {
          "output_type": "display_data",
          "data": {
            "text/html": [
              "<video alt=\"test\" autoplay \n",
              "                loop controls style=\"height: 400px;\">\n",
              "                <source src=\"data:video/mp4;base64,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\" type=\"video/mp4\" />\n",
              "             </video>"
            ],
            "text/plain": [
              "<IPython.core.display.HTML object>"
            ]
          },
          "metadata": {
            "tags": []
          }
        }
      ]
    },
    {
      "cell_type": "markdown",
      "metadata": {
        "id": "MrAg-9GkstiP",
        "colab_type": "text"
      },
      "source": [
        "## Frozen Lake Environment\n",
        "\n",
        "A grid represented by a matrix of characters. Their meaning is as follows:\n",
        "\n",
        "* **S**: initial state\n",
        "\n",
        "* **F**: frozen lake\n",
        "\n",
        "* **H**: hole\n",
        "\n",
        "* **G**: the goal\n",
        "\n",
        "* **Red square**: indicates the current position of the player"
      ]
    },
    {
      "cell_type": "code",
      "metadata": {
        "id": "k44I2zBasRNQ",
        "colab_type": "code",
        "outputId": "9719d8d3-6676-415e-e793-e601e854a2d5",
        "colab": {
          "base_uri": "https://localhost:8080/",
          "height": 101
        }
      },
      "source": [
        "# Let's generate a random trajectory...\n",
        "from pyvirtualdisplay import Display\n",
        "display = Display(visible=0, size=(1400, 900))\n",
        "display.start()\n",
        "# Choose the Cart-Pole environment from the OpenAI Gym\n",
        "env = wrap_env(gym.make(\"FrozenLake-v0\"))\n",
        "env.reset()                    \n",
        "env.render()\n",
        "\n"
      ],
      "execution_count": 0,
      "outputs": [
        {
          "output_type": "stream",
          "text": [
            "\n",
            "\u001b[41mS\u001b[0mFFF\n",
            "FHFH\n",
            "FFFH\n",
            "HFFG\n"
          ],
          "name": "stdout"
        }
      ]
    },
    {
      "cell_type": "markdown",
      "metadata": {
        "id": "Zpjw9mbGtwcK",
        "colab_type": "text"
      },
      "source": [
        "Besides, these objects offer some utility methods, like the sample() method which returns a random value from the space. With this method, we can easily create a dummy agent that plays the game randomly:"
      ]
    },
    {
      "cell_type": "code",
      "metadata": {
        "id": "kIUA2dShsksD",
        "colab_type": "code",
        "outputId": "19549230-2dcf-45a3-d492-67e200ec2603",
        "colab": {
          "base_uri": "https://localhost:8080/",
          "height": 50
        }
      },
      "source": [
        "print(\"Action space: \", env.action_space)\n",
        "print(\"Observation space: \", env.observation_space)"
      ],
      "execution_count": 0,
      "outputs": [
        {
          "output_type": "stream",
          "text": [
            "Action space:  Discrete(4)\n",
            "Observation space:  Discrete(16)\n"
          ],
          "name": "stdout"
        }
      ]
    },
    {
      "cell_type": "code",
      "metadata": {
        "id": "CuCVrbqVtNZs",
        "colab_type": "code",
        "outputId": "240f75db-e1ab-4b96-9798-d465bdec41f5",
        "colab": {
          "base_uri": "https://localhost:8080/",
          "height": 605
        }
      },
      "source": [
        "import gym\n",
        " \n",
        "MAX_ITERATIONS = 10\n",
        " \n",
        "env = gym.make(\"FrozenLake-v0\")\n",
        "env.reset()\n",
        "env.render()\n",
        "for i in range(MAX_ITERATIONS):\n",
        "    random_action = env.action_space.sample()\n",
        "    new_state, reward, done, info = env.step(random_action)\n",
        "    env.render()\n",
        "    if done:\n",
        "        break"
      ],
      "execution_count": 0,
      "outputs": [
        {
          "output_type": "stream",
          "text": [
            "\n",
            "\u001b[41mS\u001b[0mFFF\n",
            "FHFH\n",
            "FFFH\n",
            "HFFG\n",
            "  (Left)\n",
            "\u001b[41mS\u001b[0mFFF\n",
            "FHFH\n",
            "FFFH\n",
            "HFFG\n",
            "  (Left)\n",
            "\u001b[41mS\u001b[0mFFF\n",
            "FHFH\n",
            "FFFH\n",
            "HFFG\n",
            "  (Right)\n",
            "\u001b[41mS\u001b[0mFFF\n",
            "FHFH\n",
            "FFFH\n",
            "HFFG\n",
            "  (Left)\n",
            "SFFF\n",
            "\u001b[41mF\u001b[0mHFH\n",
            "FFFH\n",
            "HFFG\n",
            "  (Right)\n",
            "SFFF\n",
            "FHFH\n",
            "\u001b[41mF\u001b[0mFFH\n",
            "HFFG\n",
            "  (Right)\n",
            "SFFF\n",
            "FHFH\n",
            "FFFH\n",
            "\u001b[41mH\u001b[0mFFG\n"
          ],
          "name": "stdout"
        }
      ]
    },
    {
      "cell_type": "markdown",
      "metadata": {
        "id": "rC90IIU-utei",
        "colab_type": "text"
      },
      "source": [
        "## Stochastic vs Deterministic\n",
        "\n",
        "Note in the previous output the cases in which the player moves in a different direction than the one chosen by the agent. This behavior is completely normal in the Frozen Lake environment because it simulates a slippery surface. Also, this behavior represents an important characteristic of real-world environments: the transitions from one state to another, for a given action, are probabilistic.\n",
        "\n",
        "By default, the Frozen Lake environment provided in Gym has probabilistic transitions between states. In other words, even when our agent chooses to move in one direction, the environment can execute a movement in another direction.\n",
        "\n",
        "In next code, we can observe different results and paths at each execution. Also, using the info object returned by the step method we can inspect the probability used by the environment to choose the executed movement. The character moved in directions other than the selected one, with probability of 0.3333:\n"
      ]
    },
    {
      "cell_type": "code",
      "metadata": {
        "id": "zVPwXk4dut9p",
        "colab_type": "code",
        "outputId": "2a806b12-4901-46df-b423-2bb3698f409e",
        "colab": {
          "base_uri": "https://localhost:8080/",
          "height": 823
        }
      },
      "source": [
        "import gym\n",
        " \n",
        "actions = {\n",
        "    'Left': 0,\n",
        "    'Down': 1,\n",
        "    'Right': 2, \n",
        "    'Up': 3\n",
        "}\n",
        " \n",
        "print('---- winning sequence ------ ')\n",
        "winning_sequence = (2 * ['Right']) + (3 * ['Down']) + ['Right']\n",
        "print(winning_sequence)\n",
        " \n",
        "env = gym.make(\"FrozenLake-v0\")\n",
        "#env = gym.make(\"FrozenLake-v0\", is_slippery=False)\n",
        "env.reset()\n",
        "env.render()\n",
        " \n",
        "for a in winning_sequence:\n",
        "    new_state, reward, done, info = env.step(actions[a])\n",
        "    print()\n",
        "    env.render()\n",
        "    print(\"Reward: {:.2f}\".format(reward))\n",
        "    print(info)\n",
        "    if done:\n",
        "        break  \n",
        " \n",
        "print()\n"
      ],
      "execution_count": 0,
      "outputs": [
        {
          "output_type": "stream",
          "text": [
            "---- winning sequence ------ \n",
            "['Right', 'Right', 'Down', 'Down', 'Down', 'Right']\n",
            "\n",
            "\u001b[41mS\u001b[0mFFF\n",
            "FHFH\n",
            "FFFH\n",
            "HFFG\n",
            "\n",
            "  (Right)\n",
            "\u001b[41mS\u001b[0mFFF\n",
            "FHFH\n",
            "FFFH\n",
            "HFFG\n",
            "Reward: 0.00\n",
            "{'prob': 0.3333333333333333}\n",
            "\n",
            "  (Right)\n",
            "\u001b[41mS\u001b[0mFFF\n",
            "FHFH\n",
            "FFFH\n",
            "HFFG\n",
            "Reward: 0.00\n",
            "{'prob': 0.3333333333333333}\n",
            "\n",
            "  (Down)\n",
            "SFFF\n",
            "\u001b[41mF\u001b[0mHFH\n",
            "FFFH\n",
            "HFFG\n",
            "Reward: 0.00\n",
            "{'prob': 0.3333333333333333}\n",
            "\n",
            "  (Down)\n",
            "SFFF\n",
            "\u001b[41mF\u001b[0mHFH\n",
            "FFFH\n",
            "HFFG\n",
            "Reward: 0.00\n",
            "{'prob': 0.3333333333333333}\n",
            "\n",
            "  (Down)\n",
            "SFFF\n",
            "F\u001b[41mH\u001b[0mFH\n",
            "FFFH\n",
            "HFFG\n",
            "Reward: 0.00\n",
            "{'prob': 0.3333333333333333}\n",
            "\n"
          ],
          "name": "stdout"
        }
      ]
    },
    {
      "cell_type": "markdown",
      "metadata": {
        "id": "OHDXNBiPvt2u",
        "colab_type": "text"
      },
      "source": [
        "However, the Frozen Lake environment can also be used in deterministic mode. By setting the property **is_slippery=False** when creating the environment, the slippery surface is turned off and then the environment always executes the action chosen by the agent\n",
        "\n"
      ]
    },
    {
      "cell_type": "markdown",
      "metadata": {
        "id": "bAW6-IMLGXIl",
        "colab_type": "text"
      },
      "source": [
        "\n",
        " ## Cart Pole problem and DQN solving\n",
        "\n",
        "Here’s a bare minimum example of getting something running. This will run an instance of the CartPole-v1 environment for 1000 timesteps, rendering the environment at each step. You should see a window pop up rendering the classic cart-pole problem. It runs for 100 episodes, if any goes beyond 50 steps we stop and show the video:\n",
        "*italicized text*\n",
        "\n"
      ]
    },
    {
      "cell_type": "code",
      "metadata": {
        "id": "PMDk7AXAWBIA",
        "colab_type": "code",
        "colab": {}
      },
      "source": [
        "from pyvirtualdisplay import Display\n",
        "display = Display(visible=0, size=(1400, 900))\n",
        "display.start()\n",
        "env = wrap_env(gym.make('CartPole-v1'))"
      ],
      "execution_count": 0,
      "outputs": []
    },
    {
      "cell_type": "code",
      "metadata": {
        "id": "kJ1QcZqKGmrF",
        "colab_type": "code",
        "outputId": "60daa0d7-0ea0-4f72-8e2d-92fdfa21a6ea",
        "colab": {
          "base_uri": "https://localhost:8080/",
          "height": 673
        }
      },
      "source": [
        "for i_episode in range(100):\n",
        "    observation = env.reset()\n",
        "    done = False\n",
        "    for t in range(1000):\n",
        "        env.render()\n",
        "        action = env.action_space.sample() # take a random action\n",
        "        observation, reward, done, info = env.step(action)\n",
        "        if done:\n",
        "            print(\"Episode finished after {} timesteps\".format(t+1))\n",
        "            break\n",
        "    if t+1 > 50:\n",
        "        print(\"Episode finished after {} timesteps\".format(t+1))\n",
        "        break    \n",
        "env.close()\n",
        "# ... and visualize it!\n",
        "show_video()"
      ],
      "execution_count": 0,
      "outputs": [
        {
          "output_type": "stream",
          "text": [
            "Episode finished after 13 timesteps\n",
            "Episode finished after 11 timesteps\n",
            "Episode finished after 15 timesteps\n",
            "Episode finished after 14 timesteps\n",
            "Episode finished after 16 timesteps\n",
            "Episode finished after 15 timesteps\n",
            "Episode finished after 12 timesteps\n",
            "Episode finished after 23 timesteps\n",
            "Episode finished after 10 timesteps\n",
            "Episode finished after 38 timesteps\n",
            "Episode finished after 16 timesteps\n",
            "Episode finished after 36 timesteps\n",
            "Episode finished after 57 timesteps\n",
            "Episode finished after 57 timesteps\n",
            "/content\n"
          ],
          "name": "stdout"
        },
        {
          "output_type": "display_data",
          "data": {
            "text/html": [
              "<video alt=\"test\" autoplay \n",
              "                loop controls style=\"height: 400px;\">\n",
              "                <source src=\"data:video/mp4;base64,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\" type=\"video/mp4\" />\n",
              "             </video>"
            ],
            "text/plain": [
              "<IPython.core.display.HTML object>"
            ]
          },
          "metadata": {
            "tags": []
          }
        }
      ]
    },
    {
      "cell_type": "markdown",
      "metadata": {
        "id": "cBKofZ4KrG8Z",
        "colab_type": "text"
      },
      "source": [
        "## Visualize a random policy in the environment\n",
        "\n",
        "Our goal is to train an agent that is capable of solving the CartPole problem, where a pole is attached to a cart moving along a horizontal track. The agent can interact with the environment by applying a force (+1/-1) to the cart. The episode is terminated whenever the pole is more than 15 degrees from vertical or the cart goes out of bounds in the horizontal axis. The agent receives +1 reward for each timestep under the desired conditions.\n",
        "\n",
        "**Exercise #1.** Visualize a rollout of a random agent in the [CartPole-v1](https://gym.openai.com/envs/CartPole-v1/) environment. Use the [documentation](http://gym.openai.com/docs/) for OpenAI Gym as a reference."
      ]
    },
    {
      "cell_type": "code",
      "metadata": {
        "id": "2tMl9KOPbxW6",
        "colab_type": "code",
        "colab": {}
      },
      "source": [
        "# Let's generate a random trajectory...\n",
        "from pyvirtualdisplay import Display\n",
        "display = Display(visible=0, size=(1400, 900))\n",
        "display.start()\n",
        "# Choose the Cart-Pole environment from the OpenAI Gym\n",
        "env = wrap_env(gym.make(\"CartPole-v1\"))\n"
      ],
      "execution_count": 0,
      "outputs": []
    },
    {
      "cell_type": "code",
      "metadata": {
        "id": "mH913G8v01dn",
        "colab_type": "code",
        "outputId": "8a6cc468-c536-4a8f-decc-bc5e99a1e3d4",
        "colab": {
          "base_uri": "https://localhost:8080/",
          "height": 454
        }
      },
      "source": [
        "# TODO: reset the environment\n",
        "ob = env.reset()\n",
        "\n",
        "# Initialize the variables done (breaks loop) and total_rew (reward)\n",
        "done = False\n",
        "total_rew = 0\n",
        "\n",
        "# Execution loop\n",
        "while not done:\n",
        "  env.render()\n",
        "  \n",
        "  # TODO: Sample a random action from the environment\n",
        "  ac = env.reset()\n",
        "  \n",
        "  # TODO: Obtain the new state, reward and whether the episode has terminated\n",
        "  ob, rew, done, info = env.reset()\n",
        "  \n",
        "  # Accumulate the reward\n",
        "  total_rew += rew\n",
        "  \n",
        "print('Cumulative reward:', total_rew)\n",
        "  \n",
        "# ... and visualize it!\n",
        "env.close()\n",
        "show_video()"
      ],
      "execution_count": 0,
      "outputs": [
        {
          "output_type": "stream",
          "text": [
            "Cumulative reward: 0.014635979576101604\n",
            "/content\n"
          ],
          "name": "stdout"
        },
        {
          "output_type": "display_data",
          "data": {
            "text/html": [
              "<video alt=\"test\" autoplay \n",
              "                loop controls style=\"height: 400px;\">\n",
              "                <source src=\"data:video/mp4;base64,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\" type=\"video/mp4\" />\n",
              "             </video>"
            ],
            "text/plain": [
              "<IPython.core.display.HTML object>"
            ]
          },
          "metadata": {
            "tags": []
          }
        }
      ]
    },
    {
      "cell_type": "markdown",
      "metadata": {
        "colab_type": "text",
        "id": "af8u23qqjxEF"
      },
      "source": [
        "## Visualize a random policy in the environment\n",
        "\n",
        "Our goal is to train an agent that is capable of solving the CartPole problem, where a pole is attached to a cart moving along a horizontal track. The agent can interact with the environment by applying a force (+1/-1) to the cart. The episode is terminated whenever the pole is more than 15 degrees from vertical or the cart goes out of bounds in the horizontal axis. The agent receives +1 reward for each timestep under the desired conditions.\n",
        "\n",
        "**SOLUTION Exercise #1.** Visualize a rollout of a random agent in the [CartPole-v1](https://gym.openai.com/envs/CartPole-v1/) environment. Use the [documentation](http://gym.openai.com/docs/) for OpenAI Gym as a reference."
      ]
    },
    {
      "cell_type": "code",
      "metadata": {
        "id": "gB__5QYVb10v",
        "colab_type": "code",
        "colab": {}
      },
      "source": [
        "# Let's generate a random trajectory...\n",
        "from pyvirtualdisplay import Display\n",
        "display = Display(visible=0, size=(1400, 900))\n",
        "display.start()\n",
        "# Choose the Cart-Pole environment from the OpenAI Gym\n",
        "env = wrap_env(gym.make(\"CartPole-v1\"))"
      ],
      "execution_count": 0,
      "outputs": []
    },
    {
      "cell_type": "code",
      "metadata": {
        "id": "O8rK-shMbXS0",
        "colab_type": "code",
        "outputId": "ce4ee95f-e053-43e9-9564-71a6040c042b",
        "colab": {
          "base_uri": "https://localhost:8080/",
          "height": 454
        }
      },
      "source": [
        "# Initialize the variables ob (observation=state), done (breaks loop) \n",
        "# and total_rew (reward)\n",
        "ob, done, total_rew = env.reset(), False, 0\n",
        "\n",
        "# Execution loop\n",
        "while not done:\n",
        "  env.render()\n",
        "  \n",
        "  # Sample a random action from the environment\n",
        "  ac = env.action_space.sample()\n",
        "  \n",
        "  # Obtain the new state, reward and whether the episode has terminated\n",
        "  ob, rew, done, info = env.step(ac)\n",
        "  \n",
        "  # Accumulate the reward\n",
        "  total_rew += rew\n",
        "  \n",
        "print('Cumulative reward:', total_rew)\n",
        "  \n",
        "# ... and visualize it!\n",
        "env.close()\n",
        "show_video()"
      ],
      "execution_count": 0,
      "outputs": [
        {
          "output_type": "stream",
          "text": [
            "Cumulative reward: 28.0\n",
            "/content\n"
          ],
          "name": "stdout"
        },
        {
          "output_type": "display_data",
          "data": {
            "text/html": [
              "<video alt=\"test\" autoplay \n",
              "                loop controls style=\"height: 400px;\">\n",
              "                <source src=\"data:video/mp4;base64,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\" type=\"video/mp4\" />\n",
              "             </video>"
            ],
            "text/plain": [
              "<IPython.core.display.HTML object>"
            ]
          },
          "metadata": {
            "tags": []
          }
        }
      ]
    },
    {
      "cell_type": "markdown",
      "metadata": {
        "id": "HeZXG6VHygrD",
        "colab_type": "text"
      },
      "source": [
        "## Create the model\n",
        "\n",
        "Now we will define our policy, parameterized by a feedforward neural network.\n",
        "\n",
        "**Exercise #2.** Complete the forward method of a [neural network in PyTorch](https://pytorch.org/tutorials/beginner/blitz/neural_networks_tutorial.html) by composing the two linear layer of perceptrons with a ReLU activation in between."
      ]
    },
    {
      "cell_type": "code",
      "metadata": {
        "id": "jKr_lu19yc3B",
        "colab_type": "code",
        "colab": {}
      },
      "source": [
        "class DQN(nn.Module):\n",
        "    def __init__(self, inputs, outputs, hidden_size=128):\n",
        "        super(DQN, self).__init__()\n",
        "        self.affine1 = nn.Linear(inputs, hidden_size)\n",
        "        self.affine2 = nn.Linear(hidden_size, outputs)\n",
        "\n",
        "    # TODO: Define the operations in the forward pass. \n",
        "    # NOTE: The backward function is automatically defined by PyTorch.\n",
        "    def forward(self, x):\n",
        "        x = self.TODO\n",
        "        x = F.relu(x)\n",
        "        x = self.TODO\n",
        "        return x"
      ],
      "execution_count": 0,
      "outputs": []
    },
    {
      "cell_type": "markdown",
      "metadata": {
        "colab_type": "text",
        "id": "U_l3tu1_jgnf"
      },
      "source": [
        "## Create the model\n",
        "\n",
        "Now we will define our policy, parameterized by a feedforward neural network.\n",
        "\n",
        "**SOLUTION** **Exercise #2.** Complete the forward method of a [neural network in PyTorch](https://pytorch.org/tutorials/beginner/blitz/neural_networks_tutorial.html) by composing the two linear layer of perceptrons with a ReLU activation in between."
      ]
    },
    {
      "cell_type": "code",
      "metadata": {
        "id": "vqmlZkYsgpIR",
        "colab_type": "code",
        "colab": {}
      },
      "source": [
        "class DQN(nn.Module):\n",
        "    def __init__(self, inputs, outputs, hidden_size=128):\n",
        "        super(DQN, self).__init__()\n",
        "        self.affine1 = nn.Linear(inputs, hidden_size)\n",
        "        self.affine2 = nn.Linear(hidden_size, outputs)\n",
        "\n",
        "    # Called with either one element to determine next action, or a batch\n",
        "    # during optimization. Returns tensor([[left0exp,right0exp]...]).\n",
        "    def forward(self, x):\n",
        "        x = self.affine1(x) # AN AFFINE (LINEAR) OPERATION --> y = Wx + b DO U REMEMBER IT FROM SLIDES???\n",
        "        x = F.relu(x)\n",
        "        x = self.affine2(x)\n",
        "        return x"
      ],
      "execution_count": 0,
      "outputs": []
    },
    {
      "cell_type": "markdown",
      "metadata": {
        "id": "5XIB8KMAw1HL",
        "colab_type": "text"
      },
      "source": [
        "## Replay memory\n",
        "\n",
        "The buffer will be a FIFO queue: when full, oldest experiences are removed to make room for new transitions.\n",
        "\n",
        "**Exercise #3.** Implement the pointer to the next position to be filled in the replay memory, which corresponds to a FIFO queue.\n",
        "(TIP: remember the [modulus % operator](https://python-reference.readthedocs.io/en/latest/docs/operators/modulus.html))."
      ]
    },
    {
      "cell_type": "code",
      "metadata": {
        "id": "DOxQfeRzw30X",
        "colab_type": "code",
        "colab": {}
      },
      "source": [
        "Transition = namedtuple(\n",
        "    'Transition', ('state', 'action', 'next_state', 'reward'))\n",
        "\n",
        "\n",
        "class ReplayMemory(object):\n",
        "    def __init__(self, capacity):\n",
        "        self.capacity = capacity\n",
        "        self.memory = []\n",
        "        self.position = 0\n",
        "\n",
        "    def push(self, *args):\n",
        "        \"\"\"Saves a transition.\"\"\"\n",
        "        if len(self.memory) < self.capacity:\n",
        "            self.memory.append(None)\n",
        "        self.memory[self.position] = Transition(*args)\n",
        "        # TODO: Update the pointer to the next position in the replay memory\n",
        "        self.position = TODO\n",
        "\n",
        "    def sample(self, batch_size):\n",
        "        return random.sample(self.memory, batch_size)\n",
        "\n",
        "    def __len__(self):\n",
        "        return len(self.memory)"
      ],
      "execution_count": 0,
      "outputs": []
    },
    {
      "cell_type": "markdown",
      "metadata": {
        "colab_type": "text",
        "id": "ZC24VFrkj3-d"
      },
      "source": [
        "## Replay memory\n",
        "\n",
        "The buffer will be a FIFO queue: when full, oldest experiences are removed to make room for new transitions.\n",
        "\n",
        "**SOLUTION Exercise #3.** Implement the pointer to the next position to be filled in the replay memory, which corresponds to a FIFO queue.\n",
        "(TIP: remember the [modulus % operator](https://python-reference.readthedocs.io/en/latest/docs/operators/modulus.html))."
      ]
    },
    {
      "cell_type": "code",
      "metadata": {
        "id": "C8cjzwh3gh-k",
        "colab_type": "code",
        "colab": {}
      },
      "source": [
        "Transition = namedtuple(\n",
        "    'Transition', ('state', 'action', 'next_state', 'reward'))\n",
        "\n",
        "\n",
        "class ReplayMemory(object):\n",
        "    def __init__(self, capacity):\n",
        "        self.capacity = capacity\n",
        "        self.memory = []\n",
        "        self.position = 0\n",
        "\n",
        "    def push(self, *args):\n",
        "        \"\"\"Saves a transition.\"\"\"\n",
        "        if len(self.memory) < self.capacity:\n",
        "            self.memory.append(None)\n",
        "        self.memory[self.position] = Transition(*args)\n",
        "        self.position = (self.position + 1) % self.capacity ## WE NEED TO CREATE A CIRCULAR BUFFER USING % MOD FUNCTION\n",
        "\n",
        "    def sample(self, batch_size):\n",
        "        return random.sample(self.memory, batch_size)\n",
        "\n",
        "    def __len__(self):\n",
        "        return len(self.memory)\n",
        "        "
      ],
      "execution_count": 0,
      "outputs": []
    },
    {
      "cell_type": "markdown",
      "metadata": {
        "id": "0T02F2uyndg5",
        "colab_type": "text"
      },
      "source": [
        "## Functions for collecting experience and updating the policy\n",
        "\n",
        "**Exercise #4.** Complete eps_greedy policy to facilitate the exploration.\n",
        "\n",
        "**Exercise #5.** Complete with `policy_net` or `target_net` the `TODO_net` in the code.\n"
      ]
    },
    {
      "cell_type": "code",
      "metadata": {
        "id": "lcXYBZNznd96",
        "colab_type": "code",
        "colab": {}
      },
      "source": [
        "def compute_eps_threshold(step, eps_start, eps_end, eps_decay):\n",
        "  return eps_end + (eps_start - eps_end) * math.exp(-1. * step / eps_decay)\n",
        "\n",
        "\n",
        "def select_action(policy, state, eps_greedy_threshold, n_actions):\n",
        "    # TODO: Select action using an epsilon-greedy strategy\n",
        "    if random.random() > TODO:\n",
        "      with torch.no_grad():\n",
        "            # t.max(1) will return largest column value of each row.\n",
        "            # second column on max result is index of where max element was\n",
        "            # found, so we pick action with the larger expected reward.\n",
        "            action = policy(state).max(1)[1].view(1, 1)\n",
        "    else:\n",
        "      action = torch.tensor(\n",
        "          [[random.randrange(n_actions)]], device=device, dtype=torch.long)\n",
        "    return action\n",
        "\n",
        "    \n",
        "def train(policy_net, target_net, optimizer, memory, batch_size, gamma):\n",
        "    if len(memory) < batch_size:\n",
        "        return\n",
        "    transitions = memory.sample(batch_size)\n",
        "    # Transpose the batch (see https://stackoverflow.com/a/19343/3343043 for\n",
        "    # detailed explanation). This converts batch-array of Transitions\n",
        "    # to Transition of batch-arrays.\n",
        "    batch = Transition(*zip(*transitions))\n",
        "\n",
        "    # Compute a mask of non-final states and concatenate the batch elements\n",
        "    # (a final state would've been the one after which simulation ended)\n",
        "    non_final_mask = torch.tensor(\n",
        "        tuple(map(lambda s: s is not None, batch.next_state)), \n",
        "        device=device, \n",
        "        dtype=torch.bool)\n",
        "    non_final_next_states = torch.cat(\n",
        "        [s for s in batch.next_state if s is not None])\n",
        "    state_batch = torch.cat(batch.state)\n",
        "    action_batch = torch.cat(batch.action)\n",
        "    reward_batch = torch.cat(batch.reward)\n",
        "\n",
        "    # Compute Q(s_t, a) - the model computes Q(s_t) for all a, then we select \n",
        "    # the columns of actions taken. These are the actions which would've been \n",
        "    # taken for each batch state according to policy_net\n",
        "    state_action_values = TODO_net(state_batch).gather(1, action_batch)\n",
        "\n",
        "    # Compute Q(s_{t+1}) for all next states.\n",
        "    # Expected values of actions for non_final_next_states are computed based\n",
        "    # on the \"older\" target_net; selecting their best reward with max(1)[0].\n",
        "    # This is merged based on the mask, such that we'll have either the expected\n",
        "    # state value or 0 in case the state was final.\n",
        "    # Note the call to detach() on Q(s_{t+1}), which prevents gradient flow\n",
        "    next_state_values = torch.zeros(batch_size, device=device)\n",
        "    next_state_values[non_final_mask] = TODO_net(\n",
        "        non_final_next_states).max(1)[0].detach()\n",
        "    # Compute targets for Q values: y_t = r_t + max(Q_{t+1})\n",
        "    expected_state_action_values = reward_batch + (next_state_values * gamma) \n",
        "\n",
        "    # Compute Huber loss between predicted Q values and targets y\n",
        "    loss = F.smooth_l1_loss(\n",
        "        state_action_values, expected_state_action_values.unsqueeze(1))\n",
        "\n",
        "    # Take an SGD step\n",
        "    optimizer.zero_grad()\n",
        "    loss.backward()\n",
        "    optimizer.step()\n",
        "    \n",
        "    \n",
        "def test(env, policy, render=False):\n",
        "    state, ep_reward, done = env.reset(), 0, False\n",
        "    while not done:\n",
        "        if render:\n",
        "          env.render()\n",
        "        state = torch.from_numpy(state).float().unsqueeze(0).to(device)\n",
        "        action = select_action(policy_net, state, 0., 1)\n",
        "        state, reward, done, _ = env.step(action.item())\n",
        "        ep_reward += reward\n",
        "    return ep_reward"
      ],
      "execution_count": 0,
      "outputs": []
    },
    {
      "cell_type": "markdown",
      "metadata": {
        "colab_type": "text",
        "id": "zywFzKV8jPQ9"
      },
      "source": [
        "## Functions for collecting experience and updating the policy\n",
        "\n",
        "**SOLUTION Exercise #4.** Complete eps_greedy policy to facilitate the exploration. \n",
        "\n",
        "**SOLUTION Exercise #5.** Complete with `policy_net` or `target_net` the `TODO_net` in the code. \n"
      ]
    },
    {
      "cell_type": "code",
      "metadata": {
        "id": "vRo_A5Hcg4IX",
        "colab_type": "code",
        "colab": {}
      },
      "source": [
        "def compute_eps_threshold(step, eps_start, eps_end, eps_decay):\n",
        "  return eps_end + (eps_start - eps_end) * math.exp(-1. * step / eps_decay)\n",
        "\n",
        "\n",
        "def select_action(policy, state, eps_greedy_threshold, n_actions):\n",
        "    # Select action using an epsilon-greedy strategy\n",
        "    if random.random() > eps_greedy_threshold:\n",
        "      with torch.no_grad():\n",
        "            # t.max(1) will return largest column value of each row.\n",
        "            # second column on max result is index of where max element was\n",
        "            # found, so we pick action with the larger expected reward.\n",
        "            \n",
        "            action = policy(state).max(1)[1].view(1,1)\n",
        "            \n",
        "    else:\n",
        "      action = torch.tensor(\n",
        "          [[random.randrange(n_actions)]], device=device, dtype=torch.long)\n",
        "    return action\n",
        "\n",
        "    \n",
        "def train(policy_net, target_net, optimizer, memory, batch_size, gamma):\n",
        "    if len(memory) < batch_size:\n",
        "        return\n",
        "    transitions = memory.sample(batch_size)\n",
        "    # Transpose the batch (see https://stackoverflow.com/a/19343/3343043 for\n",
        "    # detailed explanation). This converts batch-array of Transitions\n",
        "    # to Transition of batch-arrays.\n",
        "    batch = Transition(*zip(*transitions))\n",
        "\n",
        "    # Compute a mask of non-final states and concatenate the batch elements\n",
        "    # (a final state would've been the one after which simulation ended)\n",
        "    non_final_mask = torch.tensor(\n",
        "        tuple(map(lambda s: s is not None, batch.next_state)), \n",
        "        device=device, \n",
        "        dtype=torch.bool)\n",
        "    non_final_next_states = torch.cat(\n",
        "        [s for s in batch.next_state if s is not None])\n",
        "    state_batch = torch.cat(batch.state)\n",
        "    action_batch = torch.cat(batch.action)\n",
        "    reward_batch = torch.cat(batch.reward)\n",
        "\n",
        "    # Compute Q(s_t, a) - the model computes Q(s_t) for all a, then we select \n",
        "    # the columns of actions taken. These are the actions which would've been \n",
        "    # taken for each batch state according to policy_net\n",
        "    state_action_values = policy_net(state_batch).gather(1, action_batch)\n",
        "\n",
        "    # Compute Q(s_{t+1}) for all next states.\n",
        "    # Expected values of actions for non_final_next_states are computed based\n",
        "    # on the \"older\" target_net; selecting their best reward with max(1)[0].\n",
        "    # This is merged based on the mask, such that we'll have either the expected\n",
        "    # state value or 0 in case the state was final.\n",
        "    # Note the call to detach() on Q(s_{t+1}), which prevents gradient flow\n",
        "    next_state_values = torch.zeros(batch_size, device=device)\n",
        "    next_state_values[non_final_mask] = target_net(\n",
        "        non_final_next_states).max(1)[0].detach()\n",
        "    # Compute targets for Q values: y_t = r_t + max(Q_{t+1})\n",
        "    expected_state_action_values = (next_state_values * gamma) + reward_batch\n",
        "\n",
        "    # Compute Huber loss between predicted Q values and targets y\n",
        "    loss = F.smooth_l1_loss(\n",
        "        state_action_values, expected_state_action_values.unsqueeze(1))\n",
        "\n",
        "    # Take an SGD step\n",
        "    optimizer.zero_grad()\n",
        "    loss.backward()\n",
        "    optimizer.step()\n",
        "    \n",
        "    \n",
        "def test(env, policy, render=False):\n",
        "    state, ep_reward, done = env.reset(), 0, False\n",
        "    while not done:\n",
        "        if render:\n",
        "          env.render()\n",
        "        state = torch.from_numpy(state).float().unsqueeze(0).to(device)\n",
        "        action = select_action(policy_net, state, 0., 1)\n",
        "        state, reward, done, _ = env.step(action.item())\n",
        "        ep_reward += reward\n",
        "    return ep_reward"
      ],
      "execution_count": 0,
      "outputs": []
    },
    {
      "cell_type": "markdown",
      "metadata": {
        "id": "wr4pSznznosA",
        "colab_type": "text"
      },
      "source": [
        "## Training the agent\n",
        "**Exercise #6.** Complete the call to `memory_push`."
      ]
    },
    {
      "cell_type": "code",
      "metadata": {
        "id": "0tJ7RcgfnxPa",
        "colab_type": "code",
        "colab": {}
      },
      "source": [
        "# Hyperparameters\n",
        "env_name = 'CartPole-v1'\n",
        "gamma = 0.99  # discount factor\n",
        "seed = 543  # random seed\n",
        "log_interval = 25  # controls how often we log progress, in episodes\n",
        "num_steps = 5e4  # number of steps to train on\n",
        "batch_size = 256  # batch size for optimization\n",
        "lr = 1e-4  # learning rate\n",
        "eps_start = 1.0  # initial value for epsilon (in epsilon-greedy)\n",
        "eps_end = 0.1  # final value for epsilon (in epsilon-greedy)\n",
        "eps_decay = num_steps  # length of epsilon decay, in env steps\n",
        "target_update = 1000  # how often to update target net, in env steps"
      ],
      "execution_count": 0,
      "outputs": []
    },
    {
      "cell_type": "code",
      "metadata": {
        "id": "t93ebc2uEf0b",
        "colab_type": "code",
        "colab": {}
      },
      "source": [
        "# The default reward is +1 for any (s,a) pair. We can make the task easier\n",
        "# by giving a negative reward (e.g. -10) when the pole falls.\n",
        "# You can try modifying/removing this reward shaping and see what happens.\n",
        "# This is a clear example of the importance of reward in RL.\n",
        "def reward_shaper(rew, done):\n",
        "  return rew if not done else -10."
      ],
      "execution_count": 0,
      "outputs": []
    },
    {
      "cell_type": "code",
      "metadata": {
        "id": "nLb1oPuGoJpJ",
        "colab_type": "code",
        "colab": {}
      },
      "source": [
        "# Create environment\n",
        "from pyvirtualdisplay import Display\n",
        "display = Display(visible=0, size=(1400, 900))\n",
        "display.start()\n",
        "env = gym.make(env_name)\n",
        "\n",
        "# Fix random seed (for reproducibility)\n",
        "env.seed(seed)\n",
        "torch.manual_seed(seed)\n",
        "torch.cuda.manual_seed(seed)"
      ],
      "execution_count": 0,
      "outputs": []
    },
    {
      "cell_type": "code",
      "metadata": {
        "id": "IMHyB9Xyfaqm",
        "colab_type": "code",
        "colab": {}
      },
      "source": [
        "# Get number of actions from gym action space\n",
        "n_inputs = env.observation_space.shape[0]\n",
        "n_actions = env.action_space.n"
      ],
      "execution_count": 0,
      "outputs": []
    },
    {
      "cell_type": "code",
      "metadata": {
        "id": "9AGdVUq4nrWg",
        "colab_type": "code",
        "colab": {}
      },
      "source": [
        "if train_model:\n",
        "  policy_net = DQN(n_inputs, n_actions).to(device)\n",
        "  target_net = DQN(n_inputs, n_actions).to(device)\n",
        "  target_net.load_state_dict(policy_net.state_dict())\n",
        "  target_net.eval()\n",
        "\n",
        "  optimizer = torch.optim.Adam(policy_net.parameters(), lr=lr)\n",
        "  memory = ReplayMemory(10000)\n",
        "\n",
        "  print(\"Target reward: {}\".format(env.spec.reward_threshold))\n",
        "  step_count = 0\n",
        "  ep_rew_history = []\n",
        "  i_episode, ep_reward = 0, -float('inf')\n",
        "  while step_count < num_steps:\n",
        "      # Initialize the environment and state\n",
        "      state, done = env.reset(), False\n",
        "      state = torch.from_numpy(state).float().unsqueeze(0).to(device)\n",
        "      while not done:\n",
        "          # Select an action\n",
        "          eps_greedy_threshold = compute_eps_threshold(\n",
        "              step_count, eps_start, eps_end, eps_decay)\n",
        "          action = select_action(\n",
        "              policy_net, state, eps_greedy_threshold, n_actions)\n",
        "\n",
        "          # Perform action in env\n",
        "          next_state, reward, done, _ = env.step(action.item())\n",
        "\n",
        "          # Bookkeeping\n",
        "          next_state = torch.from_numpy(\n",
        "              next_state).float().unsqueeze(0).to(device)\n",
        "          reward = reward_shaper(reward, done)\n",
        "          reward = torch.tensor([reward], device=device)\n",
        "          step_count += 1\n",
        "\n",
        "          # TODO: Store the transition in memory\n",
        "          memory.push(TODO)\n",
        "\n",
        "          # Move to the next state\n",
        "          state = next_state\n",
        "\n",
        "          # Perform one step of the optimization (on the policy network)\n",
        "          train(policy_net, target_net, optimizer, memory, batch_size, gamma)\n",
        "          \n",
        "          # Update the target network, copying all weights and biases in DQN\n",
        "          if step_count % target_update == 0:\n",
        "              target_net.load_state_dict(policy_net.state_dict())\n",
        "\n",
        "      i_episode += 1\n",
        "\n",
        "      # Evaluate greedy policy\n",
        "      if i_episode % log_interval == 0 or step_count >= num_steps:\n",
        "          ep_reward = test(env, policy_net)\n",
        "          ep_rew_history.append((i_episode, ep_reward))\n",
        "          print('Episode {}\\tSteps: {:.2f}k'\n",
        "                '\\tEval reward: {:.2f}'.format(\n",
        "                i_episode, step_count/1000., ep_reward))\n",
        "\n",
        "  print(\"Finished training! Eval reward: {:.2f}\".format(ep_reward))\n",
        "  if not os.path.exists('checkpoints'):\n",
        "    os.makedirs('checkpoints')\n",
        "  torch.save(policy_net.state_dict(), 'checkpoints/dqn-{}.pt'.format(env_name))"
      ],
      "execution_count": 0,
      "outputs": []
    },
    {
      "cell_type": "markdown",
      "metadata": {
        "colab_type": "text",
        "id": "bYHE_LtHkR_I"
      },
      "source": [
        "## Training the agent\n",
        "**SOLUTION Exercise #6.** Complete the call to `memory_push`."
      ]
    },
    {
      "cell_type": "code",
      "metadata": {
        "id": "2_9r7qs-hSjE",
        "colab_type": "code",
        "outputId": "789b8959-5dba-49bd-d810-980374ce27c4",
        "colab": {
          "base_uri": "https://localhost:8080/",
          "height": 773
        }
      },
      "source": [
        "#train_model = True\n",
        "\n",
        "if train_model:\n",
        "  policy_net = DQN(n_inputs, n_actions).to(device)\n",
        "  target_net = DQN(n_inputs, n_actions).to(device)\n",
        "  target_net.load_state_dict(policy_net.state_dict())\n",
        "  target_net.eval()\n",
        "\n",
        "  optimizer = torch.optim.Adam(policy_net.parameters(), lr=lr)\n",
        "  memory = ReplayMemory(10000)\n",
        "\n",
        "  print(\"Target reward: {}\".format(env.spec.reward_threshold))\n",
        "  step_count = 0\n",
        "  ep_rew_history = []\n",
        "  i_episode, ep_reward = 0, -float('inf')\n",
        "  while step_count < num_steps:\n",
        "      # Initialize the environment and state\n",
        "      state, done = env.reset(), False\n",
        "      state = torch.from_numpy(state).float().unsqueeze(0).to(device)\n",
        "      while not done:\n",
        "          # Select an action\n",
        "          eps_greedy_threshold = compute_eps_threshold(\n",
        "              step_count, eps_start, eps_end, eps_decay)\n",
        "          action = select_action(\n",
        "              policy_net, state, eps_greedy_threshold, n_actions)\n",
        "\n",
        "          # Perform action in env\n",
        "          next_state, reward, done, _ = env.step(action.item())\n",
        "\n",
        "          # Bookkeeping\n",
        "          next_state = torch.from_numpy(\n",
        "              next_state).float().unsqueeze(0).to(device)\n",
        "          reward = reward_shaper(reward, done)\n",
        "          reward = torch.tensor([reward], device=device)\n",
        "          step_count += 1\n",
        "\n",
        "          # Store the transition in memory\n",
        "          memory.push(state, action, next_state, reward) ## THE MEMORY!!\n",
        "\n",
        "          # Move to the next state\n",
        "          state = next_state\n",
        "\n",
        "          # Perform one step of the optimization (on the policy network)\n",
        "          train(policy_net, target_net, optimizer, memory, batch_size, gamma)\n",
        "          \n",
        "          # Update the target network, copying all weights and biases in DQN\n",
        "          if step_count % target_update == 0:\n",
        "              target_net.load_state_dict(policy_net.state_dict())\n",
        "\n",
        "      i_episode += 1\n",
        "\n",
        "      # Evaluate greedy policy\n",
        "      if i_episode % log_interval == 0 or step_count >= num_steps:\n",
        "          ep_reward = test(env, policy_net)\n",
        "          ep_rew_history.append((i_episode, ep_reward))\n",
        "          print('Episode {}\\tSteps: {:.2f}k'\n",
        "                '\\tEval reward: {:.2f}'.format(\n",
        "                i_episode, step_count/1000., ep_reward))\n",
        "\n",
        "  print(\"Finished training! Eval reward: {:.2f}\".format(ep_reward))\n",
        "  if not os.path.exists('checkpoints'):\n",
        "    os.makedirs('checkpoints')\n",
        "  torch.save(policy_net.state_dict(), 'checkpoints/dqn-{}.pt'.format(env_name))"
      ],
      "execution_count": 0,
      "outputs": [
        {
          "output_type": "stream",
          "text": [
            "Target reward: 475.0\n",
            "Episode 25\tSteps: 0.60k\tEval reward: 10.00\n",
            "Episode 50\tSteps: 1.17k\tEval reward: 11.00\n",
            "Episode 75\tSteps: 1.72k\tEval reward: 9.00\n",
            "Episode 100\tSteps: 2.28k\tEval reward: 10.00\n",
            "Episode 125\tSteps: 2.75k\tEval reward: 10.00\n",
            "Episode 150\tSteps: 3.35k\tEval reward: 10.00\n",
            "Episode 175\tSteps: 3.91k\tEval reward: 9.00\n",
            "Episode 200\tSteps: 4.45k\tEval reward: 20.00\n",
            "Episode 225\tSteps: 5.03k\tEval reward: 41.00\n",
            "Episode 250\tSteps: 5.66k\tEval reward: 58.00\n",
            "Episode 275\tSteps: 6.48k\tEval reward: 139.00\n",
            "Episode 300\tSteps: 7.37k\tEval reward: 146.00\n",
            "Episode 325\tSteps: 8.01k\tEval reward: 209.00\n",
            "Episode 350\tSteps: 8.90k\tEval reward: 115.00\n",
            "Episode 375\tSteps: 9.79k\tEval reward: 98.00\n",
            "Episode 400\tSteps: 10.57k\tEval reward: 143.00\n",
            "Episode 425\tSteps: 11.33k\tEval reward: 127.00\n",
            "Episode 450\tSteps: 12.28k\tEval reward: 111.00\n",
            "Episode 475\tSteps: 13.18k\tEval reward: 142.00\n",
            "Episode 500\tSteps: 14.17k\tEval reward: 162.00\n",
            "Episode 525\tSteps: 15.31k\tEval reward: 150.00\n",
            "Episode 550\tSteps: 16.10k\tEval reward: 162.00\n",
            "Episode 575\tSteps: 17.22k\tEval reward: 210.00\n",
            "Episode 600\tSteps: 18.30k\tEval reward: 222.00\n",
            "Episode 625\tSteps: 19.67k\tEval reward: 138.00\n",
            "Episode 650\tSteps: 20.57k\tEval reward: 174.00\n",
            "Episode 675\tSteps: 21.82k\tEval reward: 170.00\n",
            "Episode 700\tSteps: 22.80k\tEval reward: 178.00\n",
            "Episode 725\tSteps: 24.38k\tEval reward: 177.00\n",
            "Episode 750\tSteps: 25.70k\tEval reward: 219.00\n",
            "Episode 775\tSteps: 26.98k\tEval reward: 279.00\n",
            "Episode 800\tSteps: 28.43k\tEval reward: 241.00\n",
            "Episode 825\tSteps: 29.66k\tEval reward: 314.00\n",
            "Episode 850\tSteps: 31.18k\tEval reward: 194.00\n",
            "Episode 875\tSteps: 32.77k\tEval reward: 209.00\n",
            "Episode 900\tSteps: 34.88k\tEval reward: 178.00\n",
            "Episode 925\tSteps: 37.06k\tEval reward: 258.00\n",
            "Episode 950\tSteps: 39.03k\tEval reward: 274.00\n",
            "Episode 975\tSteps: 41.10k\tEval reward: 230.00\n",
            "Episode 1000\tSteps: 43.43k\tEval reward: 206.00\n",
            "Episode 1025\tSteps: 45.98k\tEval reward: 394.00\n",
            "Episode 1050\tSteps: 49.30k\tEval reward: 237.00\n",
            "Episode 1058\tSteps: 50.00k\tEval reward: 199.00\n",
            "Finished training! Eval reward: 199.00\n"
          ],
          "name": "stdout"
        }
      ]
    },
    {
      "cell_type": "code",
      "metadata": {
        "id": "9e8MsfLfUZcc",
        "colab_type": "code",
        "outputId": "d1c392bc-abe0-4683-ba80-056433e9fd35",
        "colab": {
          "base_uri": "https://localhost:8080/",
          "height": 279
        }
      },
      "source": [
        "if train_model:\n",
        "  plt.plot([x[0] for x in ep_rew_history], [x[1] for x in ep_rew_history])\n",
        "  plt.xlabel('Episode')\n",
        "  plt.ylabel('Reward')"
      ],
      "execution_count": 0,
      "outputs": [
        {
          "output_type": "display_data",
          "data": {
            "image/png": "[encoded data removed]",
            "text/plain": [
              "<Figure size 432x288 with 1 Axes>"
            ]
          },
          "metadata": {
            "tags": [],
            "needs_background": "light"
          }
        }
      ]
    },
    {
      "cell_type": "markdown",
      "metadata": {
        "id": "_cESm8xBnFj-",
        "colab_type": "text"
      },
      "source": [
        "## Visualize trained policy"
      ]
    },
    {
      "cell_type": "code",
      "metadata": {
        "id": "F97G8ZBUyPAN",
        "colab_type": "code",
        "outputId": "b6c09652-a63c-4cca-9ead-b78dd513ff30",
        "colab": {
          "base_uri": "https://localhost:8080/",
          "height": 454
        }
      },
      "source": [
        "load_model = True\n",
        "if load_model:\n",
        "  policy_net = DQN(n_inputs, n_actions).to(device)\n",
        "  policy_net.load_state_dict(\n",
        "      torch.load('checkpoints/dqn-{}.pt'.format(env_name)))\n",
        "test_env = wrap_env(gym.make(env_name))\n",
        "ep_reward = test(test_env, policy_net, render=True)\n",
        "print(\"Cumulative reward: {}\".format(ep_reward))\n",
        "\n",
        "test_env.close()\n",
        "show_video()"
      ],
      "execution_count": 0,
      "outputs": [
        {
          "output_type": "stream",
          "text": [
            "Cumulative reward: 215.0\n",
            "/content\n"
          ],
          "name": "stdout"
        },
        {
          "output_type": "display_data",
          "data": {
            "text/html": [
              "<video alt=\"test\" autoplay \n",
              "                loop controls style=\"height: 400px;\">\n",
              "                <source src=\"data:video/mp4;base64,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\" type=\"video/mp4\" />\n",
              "             </video>"
            ],
            "text/plain": [
              "<IPython.core.display.HTML object>"
            ]
          },
          "metadata": {
            "tags": []
          }
        }
      ]
    }
  ]
}